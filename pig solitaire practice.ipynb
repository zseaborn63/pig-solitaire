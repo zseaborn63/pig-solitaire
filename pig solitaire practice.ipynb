{
 "cells": [
  {
   "cell_type": "code",
   "execution_count": 1,
   "metadata": {
    "collapsed": false
   },
   "outputs": [],
   "source": [
    "import random\n",
    "\n",
    "class Dice:\n",
    "    \n",
    "    def dice_roll(self):\n",
    "        roll = random.randint(1, 6)\n",
    "        return roll\n",
    "    \n",
    "class User:\n",
    "    \n",
    "    def __init__(self):\n",
    "        self.user_bank = 0\n",
    "        \n",
    "    \n",
    "    def user_roll(self):\n",
    "        user_dice = Dice()\n",
    "        self.user_curve = user_dice.dice_roll()\n",
    "        return self.user_curve\n",
    "    \n",
    "    def user_choose(self):\n",
    "        self.user_choice = input(\"Do you want to Roll again\" \n",
    "                                 \"or Hold? R/H \\n\").lower()\n",
    "        return self.user_choice\n",
    "    \n",
    "    def user_turn(self):\n",
    "        user_turn_bank = 0\n",
    "        player_to_roll = True\n",
    "        while player_to_roll == True:\n",
    "            x = self.user_roll()\n",
    "            print(x)\n",
    "            if x == 1:\n",
    "                user_turn_bank = 0\n",
    "                print(\"Round Over\")\n",
    "                print(\"Your total turn score is {}\".format(self.user_bank))\n",
    "                player_to_roll = False\n",
    "            else:\n",
    "                user_turn_bank += x\n",
    "                yrt = self.user_choose() \n",
    "                if yrt == \"h\":\n",
    "                    player_to_roll = False\n",
    "                    self.user_bank += user_turn_bank\n",
    "                    print(\"Your total turn score is {}.\".format(self.user_bank))  \n",
    "                else:\n",
    "                    print(\"Your current turn score is {}.\".format(user_turn_bank))\n",
    "                    player_to_roll = True\n",
    "\n",
    "class Computer_Player:\n",
    "    \n",
    "    def __init__(self):\n",
    "        self.computer_bank = 0\n",
    "        \n",
    "    def computer_roll(self):\n",
    "        computer_dice = Dice()\n",
    "        self.computer_curve = computer_dice.dice_roll()\n",
    "        return self.computer_curve\n",
    "    \n",
    "    def computer_choose(self):\n",
    "        self.computer_choice = random.choice(['h', 'r'])\n",
    "        return self.computer_choice\n",
    "    \n",
    "    def computer_turn(self):\n",
    "        computer_turn_bank = 0\n",
    "        computer_to_roll = True\n",
    "        while computer_to_roll == True:\n",
    "            y = self.computer_roll()\n",
    "            print(y)\n",
    "            if y == 1:\n",
    "                computer_turn_bank = 0\n",
    "                print(\"Round Over\")\n",
    "                print(\"Computer total turn score is {}\".format(self.computer_bank))\n",
    "                computer_to_roll = False\n",
    "            else:\n",
    "                computer_turn_bank += y\n",
    "                knife = self.computer_choose()\n",
    "                if knife == 'h':\n",
    "                    computer_to_roll = False\n",
    "                    self.computer_bank += computer_turn_bank\n",
    "                    print(\"Computer total turn score is {}.\".format(self.computer_bank))\n",
    "                else:\n",
    "                    print(\"Computer current turn score is {}.\".format(computer_turn_bank))\n",
    "                    computer_to_roll = True"
   ]
  },
  {
   "cell_type": "code",
   "execution_count": null,
   "metadata": {
    "collapsed": false
   },
   "outputs": [],
   "source": [
    "x = list(range(1, 7))\n",
    "print(x)"
   ]
  },
  {
   "cell_type": "code",
   "execution_count": null,
   "metadata": {
    "collapsed": false
   },
   "outputs": [],
   "source": [
    "type(x[1])"
   ]
  },
  {
   "cell_type": "code",
   "execution_count": null,
   "metadata": {
    "collapsed": false
   },
   "outputs": [],
   "source": [
    "y = Dice()\n",
    "print(y.dice_roll())"
   ]
  },
  {
   "cell_type": "code",
   "execution_count": null,
   "metadata": {
    "collapsed": false
   },
   "outputs": [],
   "source": [
    "u = User()\n",
    "u.user_turn()"
   ]
  },
  {
   "cell_type": "code",
   "execution_count": null,
   "metadata": {
    "collapsed": false
   },
   "outputs": [],
   "source": []
  },
  {
   "cell_type": "code",
   "execution_count": null,
   "metadata": {
    "collapsed": false
   },
   "outputs": [],
   "source": [
    "c = Computer_Player()\n",
    "c.computer_turn()"
   ]
  },
  {
   "cell_type": "code",
   "execution_count": 6,
   "metadata": {
    "collapsed": true
   },
   "outputs": [],
   "source": [
    "class Game:\n",
    "    \n",
    "    def __init__(self):\n",
    "        self.rounds_counter = 0\n",
    "        \n",
    "    def play_round(self):\n",
    "        da_ussa = User()\n",
    "        da_computa = Computer_Player()\n",
    "        da_ussa.user_turn()\n",
    "        print(\"=================\")\n",
    "        da_computa.computer_turn()\n",
    "        self.rounds_counter +=1\n",
    "        print(\"You have played {} rounds\".format(self.rounds_counter))\n",
    "        return \"Your score is {}, and the computer's score is {}\".format(da_ussa.user_bank, da_computa.computer_bank)\n",
    "    \n",
    "    def play_game(self):\n",
    "        da_ussa = User()\n",
    "        da_computa = Computer_Player()\n",
    "        while self.rounds_counter < 7:\n",
    "            self.play_round()\n",
    "        return(da_ussa.user_bank, da_computa.computer_bank)"
   ]
  },
  {
   "cell_type": "code",
   "execution_count": 7,
   "metadata": {
    "collapsed": false
   },
   "outputs": [
    {
     "name": "stdout",
     "output_type": "stream",
     "text": [
      "1\n",
      "Round Over\n",
      "Your total turn score is 0\n",
      "=================\n",
      "1\n",
      "Round Over\n",
      "Computer total turn score is 0\n",
      "You have played 1 rounds\n",
      "2\n",
      "Do you want to Roll againor Hold? R/H \n",
      "h\n",
      "Your total turn score is 2.\n",
      "=================\n",
      "6\n",
      "Computer current turn score is 6.\n",
      "5\n",
      "Computer total turn score is 11.\n",
      "You have played 2 rounds\n",
      "3\n",
      "Do you want to Roll againor Hold? R/H \n",
      "h\n",
      "Your total turn score is 3.\n",
      "=================\n",
      "1\n",
      "Round Over\n",
      "Computer total turn score is 0\n",
      "You have played 3 rounds\n",
      "4\n",
      "Do you want to Roll againor Hold? R/H \n",
      "h\n",
      "Your total turn score is 4.\n",
      "=================\n",
      "5\n",
      "Computer total turn score is 5.\n",
      "You have played 4 rounds\n",
      "6\n",
      "Do you want to Roll againor Hold? R/H \n",
      "h\n",
      "Your total turn score is 6.\n",
      "=================\n",
      "3\n",
      "Computer total turn score is 3.\n",
      "You have played 5 rounds\n",
      "3\n",
      "Do you want to Roll againor Hold? R/H \n",
      "h\n",
      "Your total turn score is 3.\n",
      "=================\n",
      "1\n",
      "Round Over\n",
      "Computer total turn score is 0\n",
      "You have played 6 rounds\n",
      "1\n",
      "Round Over\n",
      "Your total turn score is 0\n",
      "=================\n",
      "5\n",
      "Computer total turn score is 5.\n",
      "You have played 7 rounds\n"
     ]
    },
    {
     "data": {
      "text/plain": [
       "(0, 0)"
      ]
     },
     "execution_count": 7,
     "metadata": {},
     "output_type": "execute_result"
    }
   ],
   "source": [
    "g = Game()\n",
    "g.play_game()\n",
    "#print(\"Number of rounds {}\".format(g.rounds_counter))"
   ]
  },
  {
   "cell_type": "code",
   "execution_count": null,
   "metadata": {
    "collapsed": true
   },
   "outputs": [],
   "source": []
  }
 ],
 "metadata": {
  "kernelspec": {
   "display_name": "Python 3",
   "language": "python",
   "name": "python3"
  },
  "language_info": {
   "codemirror_mode": {
    "name": "ipython",
    "version": 3
   },
   "file_extension": ".py",
   "mimetype": "text/x-python",
   "name": "python",
   "nbconvert_exporter": "python",
   "pygments_lexer": "ipython3",
   "version": "3.5.0"
  }
 },
 "nbformat": 4,
 "nbformat_minor": 0
}
