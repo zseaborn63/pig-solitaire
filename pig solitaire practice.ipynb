{
 "cells": [
  {
   "cell_type": "code",
   "execution_count": 17,
   "metadata": {
    "collapsed": false
   },
   "outputs": [],
   "source": [
    "import random\n",
    "\n",
    "class Dice:\n",
    "    \n",
    "    def dice_roll(self):\n",
    "        roll = random.randint(1, 6)\n",
    "        return roll\n",
    "    \n",
    "class User:\n",
    "    \n",
    "    def __init__(self):\n",
    "        self.user_bank = 0\n",
    "        \n",
    "    \n",
    "    def user_roll(self):\n",
    "        user_dice = Dice()\n",
    "        self.user_curve = user_dice.dice_roll()\n",
    "        return self.user_curve\n",
    "    \n",
    "    def user_choose(self):\n",
    "        self.user_choice = input(\"Do you want to Roll again\" \n",
    "                                 \"or Hold? R/H \\n\").lower()\n",
    "        return self.user_choice\n",
    "    \n",
    "    def user_turn(self):\n",
    "        user_turn_bank = 0\n",
    "        player_to_roll = True\n",
    "        while player_to_roll == True:\n",
    "            x = self.user_roll()\n",
    "            print(x)\n",
    "            if x == 1:\n",
    "                user_turn_bank = 0\n",
    "                print(\"Round Over\")\n",
    "                print(\"Your total turn score is {}\".format(self.user_bank))\n",
    "                player_to_roll = False\n",
    "            else:\n",
    "                user_turn_bank += x\n",
    "                yrt = self.user_choose() \n",
    "                if yrt == \"h\":\n",
    "                    player_to_roll = False\n",
    "                    self.user_bank += user_turn_bank\n",
    "                    print(\"Your total turn score is {}.\".format(self.user_bank))\n",
    "                    \n",
    "                else:\n",
    "                    print(\"Your current turn score is {}.\".format(user_turn_bank))\n",
    "                    player_to_roll = True\n",
    "\n",
    "            "
   ]
  },
  {
   "cell_type": "code",
   "execution_count": null,
   "metadata": {
    "collapsed": false
   },
   "outputs": [],
   "source": [
    "x = list(range(1, 7))\n",
    "print(x)"
   ]
  },
  {
   "cell_type": "code",
   "execution_count": null,
   "metadata": {
    "collapsed": false
   },
   "outputs": [],
   "source": [
    "type(x[1])"
   ]
  },
  {
   "cell_type": "code",
   "execution_count": null,
   "metadata": {
    "collapsed": false
   },
   "outputs": [],
   "source": [
    "y = Dice()\n",
    "print(y.dice_roll())"
   ]
  },
  {
   "cell_type": "code",
   "execution_count": 15,
   "metadata": {
    "collapsed": false
   },
   "outputs": [],
   "source": [
    "u = User()\n",
    "u.user_turn()"
   ]
  },
  {
   "cell_type": "code",
   "execution_count": 18,
   "metadata": {
    "collapsed": false
   },
   "outputs": [],
   "source": [
    "class Computer_Player:\n",
    "    \n",
    "    def __init__(self):\n",
    "        self.computer_bank = 0\n",
    "        \n",
    "    def computer_roll(self):\n",
    "        computer_dice = Dice()\n",
    "        self.computer_curve = computer_dice.dice_roll()\n",
    "        return self.computer_curve\n",
    "    \n",
    "    def computer_choose(self):\n",
    "        self.computer_choice = random.choose(['h', 'r'])\n",
    "        return self.computer_choice"
   ]
  },
  {
   "cell_type": "code",
   "execution_count": 32,
   "metadata": {
    "collapsed": false
   },
   "outputs": [
    {
     "data": {
      "text/plain": [
       "1"
      ]
     },
     "execution_count": 32,
     "metadata": {},
     "output_type": "execute_result"
    }
   ],
   "source": [
    "c = Computer_Player()\n",
    "c.computer_roll()"
   ]
  },
  {
   "cell_type": "code",
   "execution_count": null,
   "metadata": {
    "collapsed": true
   },
   "outputs": [],
   "source": []
  }
 ],
 "metadata": {
  "kernelspec": {
   "display_name": "Python 3",
   "language": "python",
   "name": "python3"
  },
  "language_info": {
   "codemirror_mode": {
    "name": "ipython",
    "version": 3
   },
   "file_extension": ".py",
   "mimetype": "text/x-python",
   "name": "python",
   "nbconvert_exporter": "python",
   "pygments_lexer": "ipython3",
   "version": "3.5.0"
  }
 },
 "nbformat": 4,
 "nbformat_minor": 0
}
