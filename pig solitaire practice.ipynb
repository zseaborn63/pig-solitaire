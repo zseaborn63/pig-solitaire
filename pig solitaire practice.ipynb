{
 "cells": [
  {
   "cell_type": "code",
   "execution_count": 1,
   "metadata": {
    "collapsed": false
   },
   "outputs": [],
   "source": [
    "import random\n",
    "\n",
    "class Dice:\n",
    "    \n",
    "    def dice_roll(self):\n",
    "        roll = random.randint(1, 6)\n",
    "        return roll\n",
    "    \n",
    "    "
   ]
  },
  {
   "cell_type": "code",
   "execution_count": null,
   "metadata": {
    "collapsed": false
   },
   "outputs": [],
   "source": [
    "x = list(range(1, 7))\n",
    "print(x)"
   ]
  },
  {
   "cell_type": "code",
   "execution_count": null,
   "metadata": {
    "collapsed": false
   },
   "outputs": [],
   "source": [
    "type(x[1])"
   ]
  },
  {
   "cell_type": "code",
   "execution_count": null,
   "metadata": {
    "collapsed": false
   },
   "outputs": [],
   "source": [
    "y = Dice()\n",
    "print(y.dice_roll())"
   ]
  },
  {
   "cell_type": "code",
   "execution_count": 4,
   "metadata": {
    "collapsed": false
   },
   "outputs": [],
   "source": [
    "class User:\n",
    "    \n",
    "    def __init__(self):\n",
    "        self.user_bank = 0\n",
    "        \n",
    "    \n",
    "    def user_roll(self):\n",
    "        user_dice = Dice()\n",
    "        self.user_curve = user_dice.dice_roll()\n",
    "        return self.user_curve\n",
    "    \n",
    "    def user_choose(self):\n",
    "        self.user_choice = input(\"Do you want to Roll again or Hold? R/H \\n\").lower()\n",
    "        if self.user_choice == \"h\":\n",
    "            return False\n",
    "        else:\n",
    "            return True\n",
    "    \n",
    "    def user_turn(self):\n",
    "        user_turn_bank = 0\n",
    "        player_to_roll = True\n",
    "        while player_to_roll == True:\n",
    "            x = self.user_roll()\n",
    "            print(x)\n",
    "            if x == 1:\n",
    "                user_turn_bank = 0\n",
    "                print(\"Round Over\")\n",
    "                player_to_roll = False\n",
    "            else:\n",
    "                user_turn_bank += x\n",
    "                yrt = self.user_choose() \n",
    "                if yrt == \"h\":\n",
    "                    self.user_bank += user_turn_bank\n",
    "                    print(self.user_bank)\n",
    "                    player_to_roll = False\n",
    "                else:\n",
    "                    print(user_turn_bank)\n",
    "                    player_to_roll = True\n",
    "\n",
    "            "
   ]
  },
  {
   "cell_type": "code",
   "execution_count": null,
   "metadata": {
    "collapsed": false
   },
   "outputs": [
    {
     "name": "stdout",
     "output_type": "stream",
     "text": [
      "4\n",
      "Do you want to Roll again or Hold? R/H \n",
      "r\n",
      "4\n",
      "5\n",
      "Do you want to Roll again or Hold? R/H \n",
      "r\n",
      "9\n",
      "4\n",
      "Do you want to Roll again or Hold? R/H \n",
      "h\n",
      "13\n",
      "2\n",
      "Do you want to Roll again or Hold? R/H \n",
      "h\n",
      "15\n",
      "5\n"
     ]
    }
   ],
   "source": [
    "u = User()\n",
    "u.user_turn()"
   ]
  },
  {
   "cell_type": "code",
   "execution_count": null,
   "metadata": {
    "collapsed": true
   },
   "outputs": [],
   "source": []
  }
 ],
 "metadata": {
  "kernelspec": {
   "display_name": "Python 3",
   "language": "python",
   "name": "python3"
  },
  "language_info": {
   "codemirror_mode": {
    "name": "ipython",
    "version": 3
   },
   "file_extension": ".py",
   "mimetype": "text/x-python",
   "name": "python",
   "nbconvert_exporter": "python",
   "pygments_lexer": "ipython3",
   "version": "3.5.0"
  }
 },
 "nbformat": 4,
 "nbformat_minor": 0
}
