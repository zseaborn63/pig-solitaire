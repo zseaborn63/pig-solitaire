{
 "cells": [
  {
   "cell_type": "code",
   "execution_count": 1,
   "metadata": {
    "collapsed": false
   },
   "outputs": [],
   "source": [
    "import random\n",
    "\n",
    "class Dice:\n",
    "    \n",
    "    def dice_roll(self):\n",
    "        roll = random.randint(1, 6)\n",
    "        return roll\n",
    "    \n",
    "class User:\n",
    "    \n",
    "    def __init__(self):\n",
    "        self.user_bank = 0\n",
    "        \n",
    "    \n",
    "    def user_roll(self):\n",
    "        user_dice = Dice()\n",
    "        self.user_curve = user_dice.dice_roll()\n",
    "        return self.user_curve\n",
    "    \n",
    "    def user_choose(self):\n",
    "        self.user_choice = input(\"Do you want to Roll again\" \n",
    "                                 \"or Hold? R/H \\n\").lower()\n",
    "        return self.user_choice\n",
    "    \n",
    "    def user_turn(self):\n",
    "        user_turn_bank = 0\n",
    "        player_to_roll = True\n",
    "        while player_to_roll == True:\n",
    "            x = self.user_roll()\n",
    "            print(x)\n",
    "            if x == 1:\n",
    "                user_turn_bank = 0\n",
    "                self.user_bank += user_turn_bank\n",
    "                print(\"Round Over\")\n",
    "                print(\"Your total turn score is {}\".format(self.user_bank))\n",
    "                player_to_roll = False\n",
    "            else:\n",
    "                user_turn_bank += x\n",
    "                yrt = self.user_choose() \n",
    "                if yrt == \"h\":\n",
    "                    player_to_roll = False\n",
    "                    self.user_bank += user_turn_bank\n",
    "                    print(\"Your total turn score is {}.\".format(self.user_bank))  \n",
    "                else:\n",
    "                    print(\"Your current turn score is {}.\".format(user_turn_bank))\n",
    "                    player_to_roll = True\n",
    "\n",
    "class Computer_Player:\n",
    "    \n",
    "    def __init__(self):\n",
    "        self.computer_bank = 0\n",
    "        \n",
    "    def computer_roll(self):\n",
    "        computer_dice = Dice()\n",
    "        self.computer_curve = computer_dice.dice_roll()\n",
    "        return self.computer_curve\n",
    "    \n",
    "    def computer_choose(self):\n",
    "        self.computer_choice = random.choice(['h', 'r'])\n",
    "        return self.computer_choice\n",
    "    \n",
    "    def computer_turn(self):\n",
    "        computer_turn_bank = 0\n",
    "        computer_to_roll = True\n",
    "        while computer_to_roll == True:\n",
    "            y = self.computer_roll()\n",
    "            print(y)\n",
    "            if y == 1:\n",
    "                computer_turn_bank = 0\n",
    "                self.computer_bank += computer_turn_bank\n",
    "                print(\"Round Over\")\n",
    "                print(\"Computer total turn score is {}\".format(self.computer_bank))\n",
    "                computer_to_roll = False\n",
    "            else:\n",
    "                computer_turn_bank += y\n",
    "                knife = self.computer_choose()\n",
    "                if knife == 'h':\n",
    "                    computer_to_roll = False\n",
    "                    self.computer_bank += computer_turn_bank\n",
    "                    print(\"Computer total turn score is {}.\".format(self.computer_bank))\n",
    "                else:\n",
    "                    print(\"Computer current turn score is {}.\".format(computer_turn_bank))\n",
    "                    computer_to_roll = True"
   ]
  },
  {
   "cell_type": "code",
   "execution_count": null,
   "metadata": {
    "collapsed": false
   },
   "outputs": [],
   "source": [
    "x = list(range(1, 7))\n",
    "print(x)"
   ]
  },
  {
   "cell_type": "code",
   "execution_count": null,
   "metadata": {
    "collapsed": false
   },
   "outputs": [],
   "source": [
    "type(x[1])"
   ]
  },
  {
   "cell_type": "code",
   "execution_count": null,
   "metadata": {
    "collapsed": false
   },
   "outputs": [],
   "source": [
    "y = Dice()\n",
    "print(y.dice_roll())"
   ]
  },
  {
   "cell_type": "code",
   "execution_count": null,
   "metadata": {
    "collapsed": false
   },
   "outputs": [],
   "source": [
    "u = User()\n",
    "u.user_turn()"
   ]
  },
  {
   "cell_type": "code",
   "execution_count": null,
   "metadata": {
    "collapsed": false
   },
   "outputs": [],
   "source": []
  },
  {
   "cell_type": "code",
   "execution_count": null,
   "metadata": {
    "collapsed": false
   },
   "outputs": [],
   "source": [
    "c = Computer_Player()\n",
    "c.computer_turn()"
   ]
  },
  {
   "cell_type": "code",
   "execution_count": 14,
   "metadata": {
    "collapsed": true
   },
   "outputs": [],
   "source": [
    "class Game:\n",
    "    \n",
    "    def __init__(self):\n",
    "        self.rounds_counter = 0\n",
    "        \n",
    "    def play_round(self):\n",
    "        da_ussa = User()\n",
    "        da_computa = Computer_Player()\n",
    "        da_ussa.user_turn()\n",
    "        print(\"=================\")\n",
    "        da_computa.computer_turn()\n",
    "        self.rounds_counter +=1\n",
    "        print(\"You have played {} rounds\".format(self.rounds_counter))\n",
    "        print(\"+++++++++++++++++++++\")\n",
    "        return da_ussa.user_bank, da_computa.computer_bank\n",
    "    \n",
    "    def score_keeper(self):\n",
    "        self.user_score = 0\n",
    "        self.computer_score = 0\n",
    "        da_ussa = User()\n",
    "        da_computa = Computer_Player()\n",
    "        for da_ussa.user_bank in self.play_round():\n",
    "            self.user_score += da_ussa.user_turn_bank\n",
    "        for da_computa.computer_bank in self.play_round():\n",
    "            self.computer_score += da_computa.computer_turn_bank\n",
    "        return self.user_score, self.computer_score\n",
    "    \n",
    "    def play_game(self):\n",
    "        da_ussa = User()\n",
    "        da_computa = Computer_Player()\n",
    "        self.score_keeper()\n",
    "        while self.rounds_counter < 7:\n",
    "            self.play_round()\n",
    "            #self.score_keeper()\n",
    "            print(self.user_score, self.computer_score)\n",
    "        return self.user_score, self.computer_score"
   ]
  },
  {
   "cell_type": "code",
   "execution_count": 15,
   "metadata": {
    "collapsed": false
   },
   "outputs": [
    {
     "name": "stdout",
     "output_type": "stream",
     "text": [
      "2\n",
      "Do you want to Roll againor Hold? R/H \n",
      "h\n",
      "Your total turn score is 2.\n",
      "=================\n",
      "4\n",
      "Computer total turn score is 4.\n",
      "You have played 1 rounds\n",
      "+++++++++++++++++++++\n"
     ]
    },
    {
     "ename": "AttributeError",
     "evalue": "'User' object has no attribute 'user_turn_bank'",
     "output_type": "error",
     "traceback": [
      "\u001b[0;31m---------------------------------------------------------------------------\u001b[0m",
      "\u001b[0;31mAttributeError\u001b[0m                            Traceback (most recent call last)",
      "\u001b[0;32m<ipython-input-15-8e4710f296f1>\u001b[0m in \u001b[0;36m<module>\u001b[0;34m()\u001b[0m\n\u001b[1;32m      1\u001b[0m \u001b[0mg\u001b[0m \u001b[0;34m=\u001b[0m \u001b[0mGame\u001b[0m\u001b[0;34m(\u001b[0m\u001b[0;34m)\u001b[0m\u001b[0;34m\u001b[0m\u001b[0m\n\u001b[0;32m----> 2\u001b[0;31m \u001b[0mg\u001b[0m\u001b[0;34m.\u001b[0m\u001b[0mplay_game\u001b[0m\u001b[0;34m(\u001b[0m\u001b[0;34m)\u001b[0m\u001b[0;34m\u001b[0m\u001b[0m\n\u001b[0m\u001b[1;32m      3\u001b[0m \u001b[0;31m#print(\"Number of rounds {}\".format(g.rounds_counter))\u001b[0m\u001b[0;34m\u001b[0m\u001b[0;34m\u001b[0m\u001b[0m\n",
      "\u001b[0;32m<ipython-input-14-4b204606ff86>\u001b[0m in \u001b[0;36mplay_game\u001b[0;34m(self)\u001b[0m\n\u001b[1;32m     29\u001b[0m         \u001b[0mda_ussa\u001b[0m \u001b[0;34m=\u001b[0m \u001b[0mUser\u001b[0m\u001b[0;34m(\u001b[0m\u001b[0;34m)\u001b[0m\u001b[0;34m\u001b[0m\u001b[0m\n\u001b[1;32m     30\u001b[0m         \u001b[0mda_computa\u001b[0m \u001b[0;34m=\u001b[0m \u001b[0mComputer_Player\u001b[0m\u001b[0;34m(\u001b[0m\u001b[0;34m)\u001b[0m\u001b[0;34m\u001b[0m\u001b[0m\n\u001b[0;32m---> 31\u001b[0;31m         \u001b[0mself\u001b[0m\u001b[0;34m.\u001b[0m\u001b[0mscore_keeper\u001b[0m\u001b[0;34m(\u001b[0m\u001b[0;34m)\u001b[0m\u001b[0;34m\u001b[0m\u001b[0m\n\u001b[0m\u001b[1;32m     32\u001b[0m         \u001b[0;32mwhile\u001b[0m \u001b[0mself\u001b[0m\u001b[0;34m.\u001b[0m\u001b[0mrounds_counter\u001b[0m \u001b[0;34m<\u001b[0m \u001b[0;36m7\u001b[0m\u001b[0;34m:\u001b[0m\u001b[0;34m\u001b[0m\u001b[0m\n\u001b[1;32m     33\u001b[0m             \u001b[0mself\u001b[0m\u001b[0;34m.\u001b[0m\u001b[0mplay_round\u001b[0m\u001b[0;34m(\u001b[0m\u001b[0;34m)\u001b[0m\u001b[0;34m\u001b[0m\u001b[0m\n",
      "\u001b[0;32m<ipython-input-14-4b204606ff86>\u001b[0m in \u001b[0;36mscore_keeper\u001b[0;34m(self)\u001b[0m\n\u001b[1;32m     21\u001b[0m         \u001b[0mda_computa\u001b[0m \u001b[0;34m=\u001b[0m \u001b[0mComputer_Player\u001b[0m\u001b[0;34m(\u001b[0m\u001b[0;34m)\u001b[0m\u001b[0;34m\u001b[0m\u001b[0m\n\u001b[1;32m     22\u001b[0m         \u001b[0;32mfor\u001b[0m \u001b[0mda_ussa\u001b[0m\u001b[0;34m.\u001b[0m\u001b[0muser_bank\u001b[0m \u001b[0;32min\u001b[0m \u001b[0mself\u001b[0m\u001b[0;34m.\u001b[0m\u001b[0mplay_round\u001b[0m\u001b[0;34m(\u001b[0m\u001b[0;34m)\u001b[0m\u001b[0;34m:\u001b[0m\u001b[0;34m\u001b[0m\u001b[0m\n\u001b[0;32m---> 23\u001b[0;31m             \u001b[0mself\u001b[0m\u001b[0;34m.\u001b[0m\u001b[0muser_score\u001b[0m \u001b[0;34m+=\u001b[0m \u001b[0mda_ussa\u001b[0m\u001b[0;34m.\u001b[0m\u001b[0muser_turn_bank\u001b[0m\u001b[0;34m\u001b[0m\u001b[0m\n\u001b[0m\u001b[1;32m     24\u001b[0m         \u001b[0;32mfor\u001b[0m \u001b[0mda_computa\u001b[0m\u001b[0;34m.\u001b[0m\u001b[0mcomputer_bank\u001b[0m \u001b[0;32min\u001b[0m \u001b[0mself\u001b[0m\u001b[0;34m.\u001b[0m\u001b[0mplay_round\u001b[0m\u001b[0;34m(\u001b[0m\u001b[0;34m)\u001b[0m\u001b[0;34m:\u001b[0m\u001b[0;34m\u001b[0m\u001b[0m\n\u001b[1;32m     25\u001b[0m             \u001b[0mself\u001b[0m\u001b[0;34m.\u001b[0m\u001b[0mcomputer_score\u001b[0m \u001b[0;34m+=\u001b[0m \u001b[0mda_computa\u001b[0m\u001b[0;34m.\u001b[0m\u001b[0mcomputer_turn_bank\u001b[0m\u001b[0;34m\u001b[0m\u001b[0m\n",
      "\u001b[0;31mAttributeError\u001b[0m: 'User' object has no attribute 'user_turn_bank'"
     ]
    }
   ],
   "source": [
    "g = Game()\n",
    "g.play_game()\n",
    "#print(\"Number of rounds {}\".format(g.rounds_counter))"
   ]
  },
  {
   "cell_type": "code",
   "execution_count": null,
   "metadata": {
    "collapsed": true
   },
   "outputs": [],
   "source": []
  }
 ],
 "metadata": {
  "kernelspec": {
   "display_name": "Python 3",
   "language": "python",
   "name": "python3"
  },
  "language_info": {
   "codemirror_mode": {
    "name": "ipython",
    "version": 3
   },
   "file_extension": ".py",
   "mimetype": "text/x-python",
   "name": "python",
   "nbconvert_exporter": "python",
   "pygments_lexer": "ipython3",
   "version": "3.5.0"
  }
 },
 "nbformat": 4,
 "nbformat_minor": 0
}
